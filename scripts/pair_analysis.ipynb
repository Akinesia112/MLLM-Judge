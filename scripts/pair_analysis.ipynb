{
 "cells": [
  {
   "cell_type": "code",
   "execution_count": 4,
   "metadata": {},
   "outputs": [],
   "source": [
    "import json\n",
    "items = []\n",
    "file_path = \"/media/ssd/cdp/MLLM-Judge/Dataset/Benchmark/pair.jsonl\"\n",
    "with open(file_path, \"r\") as f:\n",
    "    for line in f:\n",
    "        items.append(json.loads(line))\n",
    "items[0]\n",
    "# 数据集定义\n",
    "dataset = {\n",
    "    (0, 300): \"coco\", (300, 600): \"Concept Caption\", (600, 900): \"diffusiondb\", \n",
    "    (900, 1200): \"infographicsVQA\", (1200, 1800): \"mathvista\", (1800, 2100): \"textVQA\", \n",
    "    (2100, 2400): \"WIT\", (2400, 2700): \"ChartQA\", (2700, 3000): \"VisitBench\", \n",
    "    (3000, 3300): \"LLaVA\"\n",
    "}\n",
    "human_answer = {}\n",
    "\n",
    "for item in items:\n",
    "    if item['human_answer'] != -1:\n",
    "        human_answer[item['pair_id']] = item['human_answer']\n",
    "\n"
   ]
  },
  {
   "cell_type": "code",
   "execution_count": 6,
   "metadata": {},
   "outputs": [
    {
     "name": "stdout",
     "output_type": "stream",
     "text": [
      "coco - Accuracy: 0.513, Recall: 0.403, Precision: 0.524, F1 Score: 0.351\n",
      "Concept Caption - Accuracy: 0.493, Recall: 0.387, Precision: 0.526, F1 Score: 0.344\n",
      "diffusiondb - Accuracy: 0.550, Recall: 0.346, Precision: 0.435, F1 Score: 0.271\n",
      "infographicsVQA - Accuracy: 0.627, Recall: 0.338, Precision: 0.450, F1 Score: 0.287\n",
      "mathvista - Accuracy: 0.638, Recall: 0.526, Precision: 0.543, F1 Score: 0.479\n",
      "textVQA - Accuracy: 0.577, Recall: 0.379, Precision: 0.353, F1 Score: 0.324\n",
      "WIT - Accuracy: 0.433, Recall: 0.341, Precision: 0.304, F1 Score: 0.279\n",
      "ChartQA - Accuracy: 0.417, Recall: 0.329, Precision: 0.443, F1 Score: 0.262\n",
      "VisitBench - Accuracy: 0.440, Recall: 0.359, Precision: 0.429, F1 Score: 0.276\n",
      "LLaVA - Accuracy: 0.493, Recall: 0.330, Precision: 0.285, F1 Score: 0.276\n",
      "0.5181076860814138\n"
     ]
    },
    {
     "name": "stderr",
     "output_type": "stream",
     "text": [
      "/home/cdp/anaconda3/envs/torch/lib/python3.9/site-packages/sklearn/metrics/_classification.py:1468: UndefinedMetricWarning: Precision is ill-defined and being set to 0.0 in labels with no predicted samples. Use `zero_division` parameter to control this behavior.\n",
      "  _warn_prf(average, modifier, msg_start, len(result))\n"
     ]
    }
   ],
   "source": [
    "from sklearn.metrics import accuracy_score, recall_score, precision_score, f1_score\n",
    "llava = []\n",
    "with open(\"/media/ssd/cdp/MLLM-Judge/Dataset/step3/Pair/new LLaVA.jsonl\",'r') as f:\n",
    "    for line in f:\n",
    "        llava.append(json.loads(line))\n",
    "# 数据集定义\n",
    "dataset = {\n",
    "    (0, 300): \"coco\", (300, 600): \"Concept Caption\", (600, 900): \"diffusiondb\", \n",
    "    (900, 1200): \"infographicsVQA\", (1200, 1800): \"mathvista\", (1800, 2100): \"textVQA\", \n",
    "    (2100, 2400): \"WIT\", (2400, 2700): \"ChartQA\", (2700, 3000): \"VisitBench\", \n",
    "    (3000, 3300): \"LLaVA\"\n",
    "}\n",
    "# 初始化数据结构，为每个数据集创建存储结构\n",
    "metrics_by_dataset = {name: {'llava_judge': [], 'llava_human': []} for _, name in dataset.items()}\n",
    "llava_result = []\n",
    "# 对每个条目按数据集分别统计评分\n",
    "for item in llava:\n",
    "    if item['result']['judge'] in ['A', 'B', 'C'] and int(item['pair_id']) in human_answer.keys() and human_answer[int(item['pair_id'])] != -1:\n",
    "        llava_result.append(item['result']['judge'])\n",
    "        pair_id = item['pair_id']\n",
    "        dataset_name = None\n",
    "        # 确定pair_id属于哪个数据集\n",
    "        for (start, end), name in dataset.items():\n",
    "            if start <= int(pair_id) < end:\n",
    "                dataset_name = name\n",
    "                break\n",
    "\n",
    "        if dataset_name is None:\n",
    "            continue\n",
    "\n",
    "        # 添加评分到对应数据集\n",
    "        metrics_by_dataset[dataset_name]['llava_judge'].append(item['result']['judge'])\n",
    "        metrics_by_dataset[dataset_name]['llava_human'].append(human_answer[pair_id])\n",
    "\n",
    "# 计算并打印每个数据集的指标\n",
    "sum = 0\n",
    "for dataset_name, data in metrics_by_dataset.items():\n",
    "    if data['llava_judge'] and data['llava_human']:\n",
    "        llava_predictions = [1 if x == 'A' else 2 if x == 'B' else 3 for x in data['llava_judge']]\n",
    "        num_ground_truth = [1 if x == 'A' else 2 if x == 'B' else 3 for x in data['llava_human']]\n",
    "\n",
    "        # 计算指标\n",
    "        accuracy = accuracy_score(num_ground_truth, llava_predictions)\n",
    "        sum += accuracy\n",
    "        recall = recall_score(num_ground_truth, llava_predictions, average='macro')\n",
    "        precision = precision_score(num_ground_truth, llava_predictions, average='macro')\n",
    "        f1 = f1_score(num_ground_truth, llava_predictions, average='macro')\n",
    "\n",
    "        print(f\"{dataset_name} - Accuracy: {accuracy:.3f}, Recall: {recall:.3f}, Precision: {precision:.3f}, F1 Score: {f1:.3f}\")\n",
    "    else:\n",
    "        print(f\"{dataset_name} - No data for metrics calculation\")\n",
    "print(sum/10)"
   ]
  },
  {
   "cell_type": "code",
   "execution_count": 7,
   "metadata": {},
   "outputs": [
    {
     "name": "stdout",
     "output_type": "stream",
     "text": [
      "276\n",
      "coco - Accuracy: 0.301, Recall: 0.288, Precision: 0.209, F1 Score: 0.204\n",
      "274\n",
      "Concept Caption - Accuracy: 0.303, Recall: 0.339, Precision: 0.303, F1 Score: 0.222\n",
      "171\n",
      "diffusiondb - Accuracy: 0.310, Recall: 0.315, Precision: 0.284, F1 Score: 0.203\n",
      "160\n",
      "infographicsVQA - Accuracy: 0.369, Recall: 0.353, Precision: 0.376, F1 Score: 0.256\n",
      "307\n",
      "mathvista - Accuracy: 0.375, Recall: 0.272, Precision: 0.283, F1 Score: 0.246\n",
      "198\n",
      "textVQA - Accuracy: 0.202, Recall: 0.301, Precision: 0.211, F1 Score: 0.151\n",
      "115\n",
      "WIT - Accuracy: 0.287, Recall: 0.319, Precision: 0.296, F1 Score: 0.204\n",
      "130\n",
      "ChartQA - Accuracy: 0.354, Recall: 0.358, Precision: 0.284, F1 Score: 0.267\n",
      "136\n",
      "VisitBench - Accuracy: 0.368, Recall: 0.364, Precision: 0.433, F1 Score: 0.283\n",
      "136\n",
      "LLaVA - Accuracy: 0.272, Recall: 0.341, Precision: 0.374, F1 Score: 0.223\n",
      "0.314\n"
     ]
    }
   ],
   "source": [
    "from sklearn.metrics import accuracy_score, recall_score, precision_score, f1_score\n",
    "llava = []\n",
    "with open(\"/media/ssd/cdp/MLLM-Judge/Dataset/step3/Pair/new CogVLM.jsonl\",'r') as f:\n",
    "    for line in f:\n",
    "        llava.append(json.loads(line))\n",
    "# 数据集定义\n",
    "dataset = {\n",
    "    (0, 300): \"coco\", (300, 600): \"Concept Caption\", (600, 900): \"diffusiondb\", \n",
    "    (900, 1200): \"infographicsVQA\", (1200, 1800): \"mathvista\", (1800, 2100): \"textVQA\", \n",
    "    (2100, 2400): \"WIT\", (2400, 2700): \"ChartQA\", (2700, 3000): \"VisitBench\", \n",
    "    (3000, 3300): \"LLaVA\"\n",
    "}\n",
    "# 初始化数据结构，为每个数据集创建存储结构\n",
    "metrics_by_dataset = {name: {'llava_judge': [], 'llava_human': []} for _, name in dataset.items()}\n",
    "cogvlm_result = []\n",
    "# 对每个条目按数据集分别统计评分\n",
    "for item in llava:\n",
    "    if item['result']['judge'] in ['A', 'B', 'C'] and int(item['pair_id']) in human_answer.keys() and human_answer[int(item['pair_id'])] != -1:\n",
    "        cogvlm_result.append(item['result']['judge'])\n",
    "        pair_id = item['pair_id']\n",
    "        dataset_name = None\n",
    "        # 确定pair_id属于哪个数据集\n",
    "        for (start, end), name in dataset.items():\n",
    "            if start <= int(pair_id) < end:\n",
    "                dataset_name = name\n",
    "                break\n",
    "\n",
    "        if dataset_name is None:\n",
    "            continue\n",
    "\n",
    "        # 添加评分到对应数据集\n",
    "        metrics_by_dataset[dataset_name]['llava_judge'].append(item['result']['judge'])\n",
    "        metrics_by_dataset[dataset_name]['llava_human'].append(human_answer[pair_id])\n",
    "sum = 0\n",
    "# 计算并打印每个数据集的指标\n",
    "for dataset_name, data in metrics_by_dataset.items():\n",
    "    if data['llava_judge'] and data['llava_human']:\n",
    "        llava_predictions = [1 if x == 'A' else 2 if x == 'B' else 3 for x in data['llava_judge']]\n",
    "        num_ground_truth = [1 if x == 'A' else 2 if x == 'B' else 3 for x in data['llava_human']]\n",
    "        print(len(data['llava_judge']))\n",
    "        # 计算指标\n",
    "        accuracy = accuracy_score(num_ground_truth, llava_predictions)\n",
    "        sum += accuracy\n",
    "        recall = recall_score(num_ground_truth, llava_predictions, average='macro')\n",
    "        precision = precision_score(num_ground_truth, llava_predictions, average='macro')\n",
    "        f1 = f1_score(num_ground_truth, llava_predictions, average='macro')\n",
    "\n",
    "        print(f\"{dataset_name} - Accuracy: {accuracy:.3f}, Recall: {recall:.3f}, Precision: {precision:.3f}, F1 Score: {f1:.3f}\")\n",
    "    else:\n",
    "        print(f\"{dataset_name} - No data for metrics calculation\")\n",
    "print(f\"{sum/10:.3f}\")"
   ]
  },
  {
   "cell_type": "code",
   "execution_count": 8,
   "metadata": {},
   "outputs": [
    {
     "name": "stdout",
     "output_type": "stream",
     "text": [
      "293\n",
      "coco - Accuracy: 0.546, Recall: 0.462, Precision: 0.485, F1 Score: 0.427\n",
      "295\n",
      "Concept Caption - Accuracy: 0.553, Recall: 0.470, Precision: 0.352, F1 Score: 0.402\n",
      "294\n",
      "diffusiondb - Accuracy: 0.639, Recall: 0.507, Precision: 0.575, F1 Score: 0.479\n",
      "295\n",
      "infographicsVQA - Accuracy: 0.698, Recall: 0.454, Precision: 0.446, F1 Score: 0.450\n",
      "291\n",
      "mathvista - Accuracy: 0.560, Recall: 0.430, Precision: 0.350, F1 Score: 0.386\n",
      "288\n",
      "textVQA - Accuracy: 0.545, Recall: 0.437, Precision: 0.416, F1 Score: 0.397\n",
      "287\n",
      "WIT - Accuracy: 0.415, Recall: 0.365, Precision: 0.340, F1 Score: 0.326\n",
      "299\n",
      "ChartQA - Accuracy: 0.351, Recall: 0.302, Precision: 0.279, F1 Score: 0.279\n",
      "289\n",
      "VisitBench - Accuracy: 0.464, Recall: 0.399, Precision: 0.373, F1 Score: 0.372\n",
      "293\n",
      "LLaVA - Accuracy: 0.447, Recall: 0.386, Precision: 0.376, F1 Score: 0.359\n",
      "0.522\n"
     ]
    },
    {
     "name": "stderr",
     "output_type": "stream",
     "text": [
      "/home/cdp/anaconda3/envs/torch/lib/python3.9/site-packages/sklearn/metrics/_classification.py:1468: UndefinedMetricWarning: Precision is ill-defined and being set to 0.0 in labels with no predicted samples. Use `zero_division` parameter to control this behavior.\n",
      "  _warn_prf(average, modifier, msg_start, len(result))\n"
     ]
    }
   ],
   "source": [
    "from sklearn.metrics import accuracy_score, recall_score, precision_score, f1_score\n",
    "llava = []\n",
    "with open(\"/media/ssd/cdp/MLLM-Judge/Dataset/step3/Pair/new Gemini.jsonl\",'r') as f:\n",
    "    for line in f:\n",
    "        llava.append(json.loads(line))\n",
    "# 数据集定义\n",
    "dataset = {\n",
    "    (0, 300): \"coco\", (300, 600): \"Concept Caption\", (600, 900): \"diffusiondb\", \n",
    "    (900, 1200): \"infographicsVQA\", (1200, 1800): \"mathvista\", (1800, 2100): \"textVQA\", \n",
    "    (2100, 2400): \"WIT\", (2400, 2700): \"ChartQA\", (2700, 3000): \"VisitBench\", \n",
    "    (3000, 3300): \"LLaVA\"\n",
    "}\n",
    "# 初始化数据结构，为每个数据集创建存储结构\n",
    "metrics_by_dataset = {name: {'llava_judge': [], 'llava_human': []} for _, name in dataset.items()}\n",
    "cogvlm_result = []\n",
    "# 对每个条目按数据集分别统计评分\n",
    "for item in llava:\n",
    "    if item['result']['judge'] in ['A', 'B', 'C'] and int(item['pair_id']) in human_answer.keys() and human_answer[int(item['pair_id'])] != -1:\n",
    "        cogvlm_result.append(item['result']['judge'])\n",
    "        pair_id = item['pair_id']\n",
    "        dataset_name = None\n",
    "        # 确定pair_id属于哪个数据集\n",
    "        for (start, end), name in dataset.items():\n",
    "            if start <= int(pair_id) < end:\n",
    "                dataset_name = name\n",
    "                break\n",
    "\n",
    "        if dataset_name is None:\n",
    "            continue\n",
    "\n",
    "        # 添加评分到对应数据集\n",
    "        metrics_by_dataset[dataset_name]['llava_judge'].append(item['result']['judge'])\n",
    "        metrics_by_dataset[dataset_name]['llava_human'].append(human_answer[pair_id])\n",
    "sum = 0\n",
    "# 计算并打印每个数据集的指标\n",
    "for dataset_name, data in metrics_by_dataset.items():\n",
    "    if data['llava_judge'] and data['llava_human']:\n",
    "        llava_predictions = [1 if x == 'A' else 2 if x == 'B' else 3 for x in data['llava_judge']]\n",
    "        num_ground_truth = [1 if x == 'A' else 2 if x == 'B' else 3 for x in data['llava_human']]\n",
    "        print(len(data['llava_judge']))\n",
    "        # 计算指标\n",
    "        accuracy = accuracy_score(num_ground_truth, llava_predictions)\n",
    "        sum += accuracy\n",
    "        recall = recall_score(num_ground_truth, llava_predictions, average='macro')\n",
    "        precision = precision_score(num_ground_truth, llava_predictions, average='macro')\n",
    "        f1 = f1_score(num_ground_truth, llava_predictions, average='macro')\n",
    "\n",
    "        print(f\"{dataset_name} - Accuracy: {accuracy:.3f}, Recall: {recall:.3f}, Precision: {precision:.3f}, F1 Score: {f1:.3f}\")\n",
    "    else:\n",
    "        print(f\"{dataset_name} - No data for metrics calculation\")\n",
    "print(f\"{sum/10:.3f}\")"
   ]
  },
  {
   "cell_type": "code",
   "execution_count": 9,
   "metadata": {},
   "outputs": [
    {
     "name": "stdout",
     "output_type": "stream",
     "text": [
      "300\n",
      "coco - Accuracy: 0.607, Recall: 0.530, Precision: 0.552, F1 Score: 0.521\n",
      "300\n",
      "Concept Caption - Accuracy: 0.537, Recall: 0.474, Precision: 0.505, F1 Score: 0.455\n",
      "299\n",
      "diffusiondb - Accuracy: 0.645, Recall: 0.494, Precision: 0.508, F1 Score: 0.474\n",
      "300\n",
      "infographicsVQA - Accuracy: 0.700, Recall: 0.461, Precision: 0.461, F1 Score: 0.461\n",
      "597\n",
      "mathvista - Accuracy: 0.737, Recall: 0.598, Precision: 0.594, F1 Score: 0.586\n",
      "300\n",
      "textVQA - Accuracy: 0.550, Recall: 0.457, Precision: 0.476, F1 Score: 0.462\n",
      "298\n",
      "WIT - Accuracy: 0.473, Recall: 0.414, Precision: 0.422, F1 Score: 0.406\n",
      "300\n",
      "ChartQA - Accuracy: 0.407, Recall: 0.353, Precision: 0.348, F1 Score: 0.340\n",
      "291\n",
      "VisitBench - Accuracy: 0.433, Recall: 0.397, Precision: 0.404, F1 Score: 0.389\n",
      "290\n",
      "LLaVA - Accuracy: 0.514, Recall: 0.446, Precision: 0.448, F1 Score: 0.447\n",
      "0.560\n"
     ]
    }
   ],
   "source": [
    "from sklearn.metrics import accuracy_score, recall_score, precision_score, f1_score\n",
    "llava = []\n",
    "with open(\"/media/ssd/cdp/MLLM-Judge/Dataset/step3/Pair/new GPT-4V(ision).jsonl\",'r') as f:\n",
    "    for line in f:\n",
    "        llava.append(json.loads(line))\n",
    "# 数据集定义\n",
    "dataset = {\n",
    "    (0, 300): \"coco\", (300, 600): \"Concept Caption\", (600, 900): \"diffusiondb\", \n",
    "    (900, 1200): \"infographicsVQA\", (1200, 1800): \"mathvista\", (1800, 2100): \"textVQA\", \n",
    "    (2100, 2400): \"WIT\", (2400, 2700): \"ChartQA\", (2700, 3000): \"VisitBench\", \n",
    "    (3000, 3300): \"LLaVA\"\n",
    "}\n",
    "# 初始化数据结构，为每个数据集创建存储结构\n",
    "metrics_by_dataset = {name: {'llava_judge': [], 'llava_human': []} for _, name in dataset.items()}\n",
    "cogvlm_result = []\n",
    "# 对每个条目按数据集分别统计评分\n",
    "for item in llava:\n",
    "    if item['result']['judge'] in ['A', 'B', 'C'] and int(item['pair_id']) in human_answer.keys() and human_answer[int(item['pair_id'])] != -1:\n",
    "        cogvlm_result.append(item['result']['judge'])\n",
    "        pair_id = item['pair_id']\n",
    "        dataset_name = None\n",
    "        # 确定pair_id属于哪个数据集\n",
    "        for (start, end), name in dataset.items():\n",
    "            if start <= int(pair_id) < end:\n",
    "                dataset_name = name\n",
    "                break\n",
    "\n",
    "        if dataset_name is None:\n",
    "            continue\n",
    "\n",
    "        # 添加评分到对应数据集\n",
    "        metrics_by_dataset[dataset_name]['llava_judge'].append(item['result']['judge'])\n",
    "        metrics_by_dataset[dataset_name]['llava_human'].append(human_answer[pair_id])\n",
    "sum = 0\n",
    "# 计算并打印每个数据集的指标\n",
    "for dataset_name, data in metrics_by_dataset.items():\n",
    "    if data['llava_judge'] and data['llava_human']:\n",
    "        llava_predictions = [1 if x == 'A' else 2 if x == 'B' else 3 for x in data['llava_judge']]\n",
    "        num_ground_truth = [1 if x == 'A' else 2 if x == 'B' else 3 for x in data['llava_human']]\n",
    "        print(len(data['llava_judge']))\n",
    "        # 计算指标\n",
    "        accuracy = accuracy_score(num_ground_truth, llava_predictions)\n",
    "        sum += accuracy\n",
    "        recall = recall_score(num_ground_truth, llava_predictions, average='macro')\n",
    "        precision = precision_score(num_ground_truth, llava_predictions, average='macro')\n",
    "        f1 = f1_score(num_ground_truth, llava_predictions, average='macro')\n",
    "\n",
    "        print(f\"{dataset_name} - Accuracy: {accuracy:.3f}, Recall: {recall:.3f}, Precision: {precision:.3f}, F1 Score: {f1:.3f}\")\n",
    "    else:\n",
    "        print(f\"{dataset_name} - No data for metrics calculation\")\n",
    "print(f\"{sum/10:.3f}\")"
   ]
  },
  {
   "cell_type": "code",
   "execution_count": 11,
   "metadata": {},
   "outputs": [
    {
     "name": "stdout",
     "output_type": "stream",
     "text": [
      "coco - Judge 1 Metrics:\n",
      "Accuracy: 0.616, Recall: 0.456, Precision: 0.403, F1 Score: 0.428\n",
      "coco - Judge 2 Metrics:\n",
      "Accuracy: 0.696, Recall: 0.586, Precision: 0.608, F1 Score: 0.594\n",
      "Concept Caption - Judge 1 Metrics:\n",
      "Accuracy: 0.787, Recall: 0.522, Precision: 0.524, F1 Score: 0.522\n",
      "Concept Caption - Judge 2 Metrics:\n",
      "Accuracy: 0.824, Recall: 0.571, Precision: 0.539, F1 Score: 0.554\n",
      "diffusiondb - Judge 2 Metrics:\n",
      "Accuracy: 0.847, Recall: 0.698, Precision: 0.538, F1 Score: 0.586\n",
      "infographicsVQA - Judge 1 Metrics:\n",
      "Accuracy: 0.650, Recall: 0.425, Precision: 0.418, F1 Score: 0.407\n",
      "infographicsVQA - Judge 2 Metrics:\n",
      "Accuracy: 0.639, Recall: 0.445, Precision: 0.450, F1 Score: 0.446\n",
      "mathvista - Judge 1 Metrics:\n",
      "Accuracy: 0.436, Recall: 0.425, Precision: 0.396, F1 Score: 0.359\n",
      "mathvista - Judge 2 Metrics:\n",
      "Accuracy: 0.564, Recall: 0.541, Precision: 0.555, F1 Score: 0.535\n",
      "textVQA - Judge 1 Metrics:\n",
      "Accuracy: 0.664, Recall: 0.547, Precision: 0.566, F1 Score: 0.538\n",
      "textVQA - Judge 2 Metrics:\n",
      "Accuracy: 0.673, Recall: 0.604, Precision: 0.607, F1 Score: 0.605\n",
      "WIT - Judge 1 Metrics:\n",
      "Accuracy: 0.605, Recall: 0.497, Precision: 0.518, F1 Score: 0.478\n",
      "WIT - Judge 2 Metrics:\n",
      "Accuracy: 0.679, Recall: 0.630, Precision: 0.638, F1 Score: 0.614\n",
      "ChartQA - Judge 1 Metrics:\n",
      "Accuracy: 0.500, Recall: 0.448, Precision: 0.498, F1 Score: 0.429\n",
      "ChartQA - Judge 2 Metrics:\n",
      "Accuracy: 0.657, Recall: 0.604, Precision: 0.628, F1 Score: 0.598\n",
      "VisitBench - Judge 1 Metrics:\n",
      "Accuracy: 0.660, Recall: 0.452, Precision: 0.427, F1 Score: 0.439\n",
      "VisitBench - Judge 2 Metrics:\n",
      "Accuracy: 0.640, Recall: 0.535, Precision: 0.514, F1 Score: 0.514\n",
      "LLaVA - Judge 1 Metrics:\n",
      "Accuracy: 0.560, Recall: 0.425, Precision: 0.690, F1 Score: 0.405\n",
      "LLaVA - Judge 2 Metrics:\n",
      "Accuracy: 0.612, Recall: 0.596, Precision: 0.571, F1 Score: 0.575\n",
      "0.609\n",
      "0.683\n"
     ]
    },
    {
     "name": "stderr",
     "output_type": "stream",
     "text": [
      "/home/cdp/anaconda3/envs/torch/lib/python3.9/site-packages/sklearn/metrics/_classification.py:1468: UndefinedMetricWarning: Precision is ill-defined and being set to 0.0 in labels with no predicted samples. Use `zero_division` parameter to control this behavior.\n",
      "  _warn_prf(average, modifier, msg_start, len(result))\n"
     ]
    }
   ],
   "source": [
    "from sklearn.metrics import accuracy_score, recall_score, precision_score, f1_score\n",
    "items = []\n",
    "file_path = \"/media/ssd/cdp/LMM-as-a-Judge/lmm_judge_dataset/human labeling and agreement/fixed_pair_0201.jsonl\"\n",
    "with open(file_path, \"r\") as f:\n",
    "    for line in f:\n",
    "        items.append(json.loads(line))\n",
    "# 初始化数据结构，为每个数据集创建存储结构\n",
    "metrics_by_dataset = {name: {'human_answers1': [],'human_answers2': [], 'judge1_answers': [], 'judge2_answers': []} for _, name in dataset.items()}\n",
    "dataset = {\n",
    "    (0, 300): \"coco\", (300, 600): \"Concept Caption\", (600, 900): \"diffusiondb\", \n",
    "    (900, 1200): \"infographicsVQA\", (1200, 1800): \"mathvista\", (1800, 2100): \"textVQA\", \n",
    "    (2100, 2400): \"WIT\", (2400, 2700): \"ChartQA\", (2700, 3000): \"VisitBench\", \n",
    "    (3000, 3300): \"LLaVA\"\n",
    "}\n",
    "# 将数据按照数据集分组\n",
    "for item in items:\n",
    "    item_id = item['id']\n",
    "    dataset_name = None\n",
    "\n",
    "    # 确定item属于哪个数据集\n",
    "    for (start, end), name in dataset.items():\n",
    "        if start <= int(item_id) < end:\n",
    "            dataset_name = name\n",
    "            break\n",
    "\n",
    "    if dataset_name is None or item['human_answer'] == -1:\n",
    "        continue\n",
    "    if item['result1']['judge'] != -1:\n",
    "        metrics_by_dataset[dataset_name]['human_answers1'].append(item['human_answer'])\n",
    "        metrics_by_dataset[dataset_name]['judge1_answers'].append(item['result1']['judge'])\n",
    "    if item['result2']['judge'] != -1:\n",
    "    # 添加数据到对应数据集\n",
    "        metrics_by_dataset[dataset_name]['human_answers2'].append(item['human_answer'])\n",
    "        metrics_by_dataset[dataset_name]['judge2_answers'].append(item['result2']['judge'])\n",
    "\n",
    "# 计算并打印每个数据集的指标\n",
    "sum1 = 0\n",
    "sum2 = 0\n",
    "for dataset_name, data in metrics_by_dataset.items():\n",
    "    if data['human_answers1'] and data['judge1_answers']:\n",
    "        # 将字符转换为数值\n",
    "        num_ground_truth = [1 if x == 'A' else 2 if x == 'B' else 3 for x in data['human_answers1']]\n",
    "        num_judge1_predictions = [1 if x == 'A' else 2 if x == 'B' else 3 for x in data['judge1_answers']]\n",
    "\n",
    "        # 计算指标\n",
    "        accuracy = accuracy_score(num_ground_truth, num_judge1_predictions)\n",
    "        sum1 += accuracy\n",
    "        recall = recall_score(num_ground_truth, num_judge1_predictions, average='macro')\n",
    "        precision = precision_score(num_ground_truth, num_judge1_predictions, average='macro')\n",
    "        f1 = f1_score(num_ground_truth, num_judge1_predictions, average='macro')\n",
    "\n",
    "        print(f\"{dataset_name} - Judge 1 Metrics:\")\n",
    "        print(f\"Accuracy: {accuracy:.3f}, Recall: {recall:.3f}, Precision: {precision:.3f}, F1 Score: {f1:.3f}\")\n",
    "\n",
    "    if data['human_answers2'] and data['judge2_answers']:\n",
    "        # 重复上述步骤，但对judge2\n",
    "        num_ground_truth = [1 if x == 'A' else 2 if x == 'B' else 3 for x in data['human_answers2']]\n",
    "        num_judge2_predictions = [1 if x == 'A' else 2 if x == 'B' else 3 for x in data['judge2_answers']]\n",
    "\n",
    "        # 计算指标\n",
    "        accuracy = accuracy_score(num_ground_truth, num_judge2_predictions)\n",
    "        sum2 += accuracy\n",
    "        recall = recall_score(num_ground_truth, num_judge2_predictions, average='macro')\n",
    "        precision = precision_score(num_ground_truth, num_judge2_predictions, average='macro')\n",
    "        f1 = f1_score(num_ground_truth, num_judge2_predictions, average='macro')\n",
    "\n",
    "        print(f\"{dataset_name} - Judge 2 Metrics:\")\n",
    "        print(f\"Accuracy: {accuracy:.3f}, Recall: {recall:.3f}, Precision: {precision:.3f}, F1 Score: {f1:.3f}\")\n",
    "print(f\"{sum1/9:.3f}\")\n",
    "print(f\"{sum2/10:.3f}\")"
   ]
  },
  {
   "cell_type": "code",
   "execution_count": 6,
   "metadata": {},
   "outputs": [
    {
     "name": "stdout",
     "output_type": "stream",
     "text": [
      "coco - Judge 1 Metrics:\n",
      "Accuracy: 0.717391304347826, Recall: 0.700250626566416, Precision: 0.700250626566416, F1 Score: 0.700250626566416\n",
      "coco - Judge 2 Metrics:\n",
      "Accuracy: 0.8043478260869565, Recall: 0.781453634085213, Precision: 0.7969328397673189, F1 Score: 0.7873651771956856\n",
      "Concept Caption - Judge 1 Metrics:\n",
      "Accuracy: 0.84, Recall: 0.8, Precision: 0.8125, F1 Score: 0.8057309373482273\n",
      "Concept Caption - Judge 2 Metrics:\n",
      "Accuracy: 0.87, Recall: 0.8595238095238096, Precision: 0.8414744459520579, F1 Score: 0.8493801413509443\n",
      "infographicsVQA - Judge 1 Metrics:\n",
      "Accuracy: 0.7703703703703704, Recall: 0.6381439661256175, Precision: 0.6342592592592593, F1 Score: 0.6361185983827493\n",
      "infographicsVQA - Judge 2 Metrics:\n",
      "Accuracy: 0.8074074074074075, Recall: 0.6610797459421313, Precision: 0.6836283185840708, F1 Score: 0.6706081081081081\n",
      "mathvista - Judge 1 Metrics:\n",
      "Accuracy: 0.678082191780822, Recall: 0.6441144114411441, Precision: 0.6340016366612111, F1 Score: 0.637219138250066\n",
      "mathvista - Judge 2 Metrics:\n",
      "Accuracy: 0.8013698630136986, Recall: 0.7517051705170517, Precision: 0.769811320754717, F1 Score: 0.7593634555271385\n",
      "textVQA - Judge 1 Metrics:\n",
      "Accuracy: 0.7926829268292683, Recall: 0.7971014492753623, Precision: 0.7926829268292683, F1 Score: 0.7919092401851022\n",
      "textVQA - Judge 2 Metrics:\n",
      "Accuracy: 0.8048780487804879, Recall: 0.8079710144927537, Precision: 0.8035714285714286, F1 Score: 0.8038277511961722\n",
      "WIT - Judge 1 Metrics:\n",
      "Accuracy: 0.6875, Recall: 0.7181818181818183, Precision: 0.6875, F1 Score: 0.6761133603238867\n",
      "WIT - Judge 2 Metrics:\n",
      "Accuracy: 0.734375, Recall: 0.6431818181818182, Precision: 0.6900452488687783, F1 Score: 0.6529505582137162\n",
      "ChartQA - Judge 1 Metrics:\n",
      "Accuracy: 0.6575342465753424, Recall: 0.6480158730158729, Precision: 0.6432411674347158, F1 Score: 0.6444574323007988\n",
      "ChartQA - Judge 2 Metrics:\n",
      "Accuracy: 0.8493150684931506, Recall: 0.8507936507936508, Precision: 0.8394777265745008, F1 Score: 0.8435612702123514\n",
      "VisitBench - Judge 1 Metrics:\n",
      "Accuracy: 0.710691823899371, Recall: 0.685500515995872, Precision: 0.685500515995872, F1 Score: 0.685500515995872\n",
      "VisitBench - Judge 2 Metrics:\n",
      "Accuracy: 0.7610062893081762, Recall: 0.7401960784313726, Precision: 0.7401960784313726, F1 Score: 0.7401960784313726\n",
      "LLaVA - Judge 1 Metrics:\n",
      "Accuracy: 0.6516129032258065, Recall: 0.6303210678210678, Precision: 0.6267543859649123, F1 Score: 0.628066121578386\n",
      "LLaVA - Judge 2 Metrics:\n",
      "Accuracy: 0.7032258064516129, Recall: 0.6668470418470418, Precision: 0.6761904761904762, F1 Score: 0.6702737698853125\n"
     ]
    }
   ],
   "source": [
    "from sklearn.metrics import accuracy_score, recall_score, precision_score, f1_score\n",
    "items = []\n",
    "file_path = \"/media/ssd/cdp/LMM-as-a-Judge/lmm_judge_dataset/human labeling and agreement/marker_pair_fixed.jsonl\"\n",
    "with open(file_path, \"r\") as f:\n",
    "    for line in f:\n",
    "        items.append(json.loads(line))\n",
    "# 初始化数据结构，为每个数据集创建存储结构\n",
    "metrics_by_dataset = {name: {'human_answers': [], 'judge1_answers': [], 'judge2_answers': []} for _, name in dataset.items()}\n",
    "dataset = {\n",
    "    (0, 300): \"coco\", (300, 600): \"Concept Caption\", (600, 900): \"diffusiondb\", \n",
    "    (900, 1200): \"infographicsVQA\", (1200, 1800): \"mathvista\", (1800, 2100): \"textVQA\", \n",
    "    (2100, 2400): \"WIT\", (2400, 2700): \"ChartQA\", (2700, 3000): \"VisitBench\", \n",
    "    (3000, 3300): \"LLaVA\"\n",
    "}\n",
    "# 将数据按照数据集分组\n",
    "for item in items:\n",
    "    item_id = item['id']\n",
    "    dataset_name = None\n",
    "\n",
    "    # 确定item属于哪个数据集\n",
    "    for (start, end), name in dataset.items():\n",
    "        if start <= int(item_id) < end:\n",
    "            dataset_name = name\n",
    "            break\n",
    "\n",
    "    if dataset_name is None or item['human_answer'] == -1 or item['result1']['judge'] == -1 or item['result2']['judge'] == -1 or item['human_answer'] == 'C' or item['result1']['judge'] == 'C' or item['result2']['judge'] == 'C':\n",
    "        continue\n",
    "\n",
    "    # 添加数据到对应数据集\n",
    "    metrics_by_dataset[dataset_name]['human_answers'].append(item['human_answer'])\n",
    "    metrics_by_dataset[dataset_name]['judge1_answers'].append(item['result1']['judge'])\n",
    "    metrics_by_dataset[dataset_name]['judge2_answers'].append(item['result2']['judge'])\n",
    "\n",
    "# 计算并打印每个数据集的指标\n",
    "for dataset_name, data in metrics_by_dataset.items():\n",
    "    if data['human_answers'] and data['judge1_answers']:\n",
    "        # 将字符转换为数值\n",
    "        num_ground_truth = [1 if x == 'A' else 2 if x == 'B' else 3 for x in data['human_answers']]\n",
    "        num_judge1_predictions = [1 if x == 'A' else 2 if x == 'B' else 3 for x in data['judge1_answers']]\n",
    "\n",
    "        # 计算指标\n",
    "        accuracy = accuracy_score(num_ground_truth, num_judge1_predictions)\n",
    "        recall = recall_score(num_ground_truth, num_judge1_predictions, average='macro')\n",
    "        precision = precision_score(num_ground_truth, num_judge1_predictions, average='macro')\n",
    "        f1 = f1_score(num_ground_truth, num_judge1_predictions, average='macro')\n",
    "\n",
    "        print(f\"{dataset_name} - Judge 1 Metrics:\")\n",
    "        print(f\"Accuracy: {accuracy}, Recall: {recall}, Precision: {precision}, F1 Score: {f1}\")\n",
    "\n",
    "    if data['human_answers'] and data['judge2_answers']:\n",
    "        # 重复上述步骤，但对judge2\n",
    "        num_judge2_predictions = [1 if x == 'A' else 2 if x == 'B' else 3 for x in data['judge2_answers']]\n",
    "\n",
    "        # 计算指标\n",
    "        accuracy = accuracy_score(num_ground_truth, num_judge2_predictions)\n",
    "        recall = recall_score(num_ground_truth, num_judge2_predictions, average='macro')\n",
    "        precision = precision_score(num_ground_truth, num_judge2_predictions, average='macro')\n",
    "        f1 = f1_score(num_ground_truth, num_judge2_predictions, average='macro')\n",
    "\n",
    "        print(f\"{dataset_name} - Judge 2 Metrics:\")\n",
    "        print(f\"Accuracy: {accuracy}, Recall: {recall}, Precision: {precision}, F1 Score: {f1}\")\n"
   ]
  },
  {
   "cell_type": "code",
   "execution_count": 12,
   "metadata": {},
   "outputs": [
    {
     "name": "stdout",
     "output_type": "stream",
     "text": [
      "coco - Evaluator 1 Human Agreement: 0.7053571428571429\n",
      "coco - Evaluator 2 Human Agreement: 0.8214285714285714\n",
      "Concept Caption - Evaluator 1 Human Agreement: 0.8333333333333334\n",
      "Concept Caption - Evaluator 2 Human Agreement: 0.9259259259259259\n",
      "diffusiondb - Evaluator 1 Human Agreement: 0\n",
      "diffusiondb - Evaluator 2 Human Agreement: 0.8733333333333333\n",
      "infographicsVQA - Evaluator 1 Human Agreement: 0.7333333333333333\n",
      "infographicsVQA - Evaluator 2 Human Agreement: 0.7944444444444444\n",
      "mathvista - Evaluator 1 Human Agreement: 0.52\n",
      "mathvista - Evaluator 2 Human Agreement: 0.6181818181818182\n",
      "textVQA - Evaluator 1 Human Agreement: 0.7168141592920354\n",
      "textVQA - Evaluator 2 Human Agreement: 0.7522123893805309\n",
      "WIT - Evaluator 1 Human Agreement: 0.8271604938271605\n",
      "WIT - Evaluator 2 Human Agreement: 0.7901234567901234\n",
      "ChartQA - Evaluator 1 Human Agreement: 0.6203703703703703\n",
      "ChartQA - Evaluator 2 Human Agreement: 0.7962962962962963\n",
      "VisitBench - Evaluator 1 Human Agreement: 0.8527918781725888\n",
      "VisitBench - Evaluator 2 Human Agreement: 0.7969543147208121\n",
      "LLaVA - Evaluator 1 Human Agreement: 0.7033492822966507\n",
      "LLaVA - Evaluator 2 Human Agreement: 0.7655502392344498\n",
      "Average of Gemini:  0.7236122214980684\n",
      "Average of GPT4:  0.7934450789736307\n"
     ]
    }
   ],
   "source": [
    "# 初始化数据结构，为每个数据集创建存储结构\n",
    "human_agreement_by_dataset = {name: {'agree1': 0, 'total1': 0, 'agree2': 0, 'total2': 0} for _, name in dataset.items()}\n",
    "\n",
    "# 对每个条目按数据集分别统计human agreement\n",
    "for item in items:\n",
    "    item_id = item['id']\n",
    "    dataset_name = None\n",
    "\n",
    "    # 确定item属于哪个数据集\n",
    "    for (start, end), name in dataset.items():\n",
    "        if start <= int(item_id) < end:\n",
    "            dataset_name = name\n",
    "            break\n",
    "\n",
    "    if dataset_name is None:\n",
    "        continue\n",
    "\n",
    "    # 累计human agreement\n",
    "    if item['evaluator1']['judge_human'] != -1:\n",
    "        human_agreement_by_dataset[dataset_name]['total1'] += 1\n",
    "        if item['evaluator1']['judge_human'] == 1:\n",
    "            human_agreement_by_dataset[dataset_name]['agree1'] += 1\n",
    "\n",
    "    if item['evaluator2']['judge_human'] != -1:\n",
    "        human_agreement_by_dataset[dataset_name]['total2'] += 1\n",
    "        if item['evaluator2']['judge_human'] == 1:\n",
    "            human_agreement_by_dataset[dataset_name]['agree2'] += 1\n",
    "\n",
    "sum1 = 0\n",
    "sum2 = 0\n",
    "# 打印每个数据集的human agreement\n",
    "for dataset_name, agreement_data in human_agreement_by_dataset.items():\n",
    "    total1 = agreement_data['total1']\n",
    "    agree1 = agreement_data['agree1']\n",
    "    total2 = agreement_data['total2']\n",
    "    agree2 = agreement_data['agree2']\n",
    "\n",
    "    agreement_percentage1 = (agree1 / total1) if total1 > 0 else 0\n",
    "    sum1 += agreement_percentage1\n",
    "    agreement_percentage2 = (agree2 / total2) if total2 > 0 else 0\n",
    "    sum2 += agreement_percentage2\n",
    "\n",
    "    print(f\"{dataset_name} - Evaluator 1 Human Agreement: {agreement_percentage1}\")\n",
    "    print(f\"{dataset_name} - Evaluator 2 Human Agreement: {agreement_percentage2}\")\n",
    "print(\"Average of Gemini: \", sum1/9)\n",
    "print(\"Average of GPT4: \", sum2/10)\n"
   ]
  },
  {
   "cell_type": "code",
   "execution_count": 13,
   "metadata": {},
   "outputs": [
    {
     "name": "stdout",
     "output_type": "stream",
     "text": [
      "0.12299465240641712\n",
      "0.32323232323232326\n",
      "0.5537730243612596\n"
     ]
    }
   ],
   "source": [
    "print(judge1_win/(judge1_win + judge2_win + tie))\n",
    "print(judge2_win/(judge1_win + judge2_win + tie))\n",
    "print(tie/(judge1_win + judge2_win + tie))"
   ]
  },
  {
   "cell_type": "code",
   "execution_count": 14,
   "metadata": {},
   "outputs": [
    {
     "name": "stdout",
     "output_type": "stream",
     "text": [
      "0.06218365871294288\n",
      "0.0778371954842543\n"
     ]
    }
   ],
   "source": [
    "print(judge1_hallucination/len(judge1_analysis))\n",
    "print(judge2_hallucination/len(judge2_analysis))"
   ]
  },
  {
   "cell_type": "code",
   "execution_count": 14,
   "metadata": {},
   "outputs": [
    {
     "data": {
      "image/png": "[encoded data removed]",
      "text/plain": [
       "<Figure size 640x480 with 1 Axes>"
      ]
     },
     "metadata": {},
     "output_type": "display_data"
    }
   ],
   "source": [
    "import numpy as np\n",
    "import matplotlib.pyplot as plt\n",
    "\n",
    "\n",
    "# 计算每个数字的出现次数\n",
    "counts = np.bincount(judge1_analysis)[1:]  # np.bincount从1开始计数，因此去掉索引0的计数\n",
    "\n",
    "# 绘制条形图\n",
    "numbers = np.arange(1, 6)  # 数字1到5\n",
    "plt.bar(numbers, counts, tick_label=numbers)\n",
    "plt.xlabel('Number')\n",
    "plt.ylabel('Count')\n",
    "plt.title('Gemini-Pro-Vision')\n",
    "plt.show()\n"
   ]
  },
  {
   "cell_type": "code",
   "execution_count": 15,
   "metadata": {},
   "outputs": [
    {
     "data": {
      "image/png": "[encoded data removed]",
      "text/plain": [
       "<Figure size 640x480 with 1 Axes>"
      ]
     },
     "metadata": {},
     "output_type": "display_data"
    }
   ],
   "source": [
    "import numpy as np\n",
    "import matplotlib.pyplot as plt\n",
    "\n",
    "\n",
    "# 计算每个数字的出现次数\n",
    "counts = np.bincount(judge2_analysis)[1:]  # np.bincount从1开始计数，因此去掉索引0的计数\n",
    "\n",
    "# 绘制条形图\n",
    "numbers = np.arange(1, 6)  # 数字1到5\n",
    "plt.bar(numbers, counts, tick_label=numbers)\n",
    "plt.xlabel('Number')\n",
    "plt.ylabel('Count')\n",
    "plt.title('GPT-4V(ision)')\n",
    "plt.show()\n"
   ]
  },
  {
   "cell_type": "code",
   "execution_count": 21,
   "metadata": {},
   "outputs": [
    {
     "data": {
      "image/png": "[encoded data removed]",
      "text/plain": [
       "<Figure size 640x480 with 1 Axes>"
      ]
     },
     "metadata": {},
     "output_type": "display_data"
    }
   ],
   "source": [
    "human_answer = [1 if x == 'A' else 2 if x == 'B' else 3 for x in human_answer]\n",
    "import numpy as np\n",
    "import matplotlib.pyplot as plt\n",
    "\n",
    "\n",
    "# 计算每个数字的出现次数\n",
    "counts = np.bincount(human_answer)[1:]  # np.bincount从1开始计数，因此去掉索引0的计数\n",
    "\n",
    "# 绘制条形图\n",
    "numbers = np.arange(1, 4)  # 数字1到5\n",
    "plt.bar(numbers, counts, tick_label=numbers)\n",
    "plt.xlabel('Number')\n",
    "plt.ylabel('Count')\n",
    "plt.title('human_answer')\n",
    "plt.show()"
   ]
  },
  {
   "cell_type": "code",
   "execution_count": null,
   "metadata": {},
   "outputs": [],
   "source": []
  },
  {
   "cell_type": "code",
   "execution_count": 22,
   "metadata": {},
   "outputs": [
    {
     "data": {
      "image/png": "[encoded data removed]",
      "text/plain": [
       "<Figure size 640x480 with 1 Axes>"
      ]
     },
     "metadata": {},
     "output_type": "display_data"
    }
   ],
   "source": [
    "judge1_answer = [1 if x == 'A' else 2 if x == 'B' else 3 for x in judge1_answer]\n",
    "import numpy as np\n",
    "import matplotlib.pyplot as plt\n",
    "\n",
    "\n",
    "# 计算每个数字的出现次数\n",
    "counts = np.bincount(judge1_answer)[1:]  # np.bincount从1开始计数，因此去掉索引0的计数\n",
    "\n",
    "# 绘制条形图\n",
    "numbers = np.arange(1, 4)  # 数字1到5\n",
    "plt.bar(numbers, counts, tick_label=numbers)\n",
    "plt.xlabel('Number')\n",
    "plt.ylabel('Count')\n",
    "plt.title('Gemini')\n",
    "plt.show()"
   ]
  },
  {
   "cell_type": "code",
   "execution_count": 23,
   "metadata": {},
   "outputs": [
    {
     "data": {
      "image/png": "[encoded data removed]",
      "text/plain": [
       "<Figure size 640x480 with 1 Axes>"
      ]
     },
     "metadata": {},
     "output_type": "display_data"
    }
   ],
   "source": [
    "judge2_answer = [1 if x == 'A' else 2 if x == 'B' else 3 for x in judge2_answer]\n",
    "import numpy as np\n",
    "import matplotlib.pyplot as plt\n",
    "\n",
    "\n",
    "# 计算每个数字的出现次数\n",
    "counts = np.bincount(judge2_answer)[1:]  # np.bincount从1开始计数，因此去掉索引0的计数\n",
    "\n",
    "# 绘制条形图\n",
    "numbers = np.arange(1, 4)  # 数字1到5\n",
    "plt.bar(numbers, counts, tick_label=numbers)\n",
    "plt.xlabel('Number')\n",
    "plt.ylabel('Count')\n",
    "plt.title('GPT-4V(ision)')\n",
    "plt.show()"
   ]
  },
  {
   "cell_type": "code",
   "execution_count": 24,
   "metadata": {},
   "outputs": [
    {
     "data": {
      "image/png": "[encoded data removed]",
      "text/plain": [
       "<Figure size 640x480 with 1 Axes>"
      ]
     },
     "metadata": {},
     "output_type": "display_data"
    }
   ],
   "source": [
    "cogVLM_answer = [1 if x == 'A' else 2 if x == 'B' else 3 for x in cogvlm_result]\n",
    "import numpy as np\n",
    "import matplotlib.pyplot as plt\n",
    "\n",
    "\n",
    "# 计算每个数字的出现次数\n",
    "counts = np.bincount(cogVLM_answer)[1:]  # np.bincount从1开始计数，因此去掉索引0的计数\n",
    "\n",
    "# 绘制条形图\n",
    "numbers = np.arange(1, 4)  # 数字1到5\n",
    "plt.bar(numbers, counts, tick_label=numbers)\n",
    "plt.xlabel('Number')\n",
    "plt.ylabel('Count')\n",
    "plt.title('CogVLM')\n",
    "plt.show()"
   ]
  },
  {
   "cell_type": "code",
   "execution_count": 25,
   "metadata": {},
   "outputs": [
    {
     "data": {
      "image/png": "[encoded data removed]",
      "text/plain": [
       "<Figure size 640x480 with 1 Axes>"
      ]
     },
     "metadata": {},
     "output_type": "display_data"
    }
   ],
   "source": [
    "llava_answer = [1 if x == 'A' else 2 if x == 'B' else 3 for x in llava_result]\n",
    "import numpy as np\n",
    "import matplotlib.pyplot as plt\n",
    "\n",
    "\n",
    "# 计算每个数字的出现次数\n",
    "counts = np.bincount(llava_answer)[1:]  # np.bincount从1开始计数，因此去掉索引0的计数\n",
    "\n",
    "# 绘制条形图\n",
    "numbers = np.arange(1, 4)  # 数字1到5\n",
    "plt.bar(numbers, counts, tick_label=numbers)\n",
    "plt.xlabel('Number')\n",
    "plt.ylabel('Count')\n",
    "plt.title('LLaVA')\n",
    "plt.show()"
   ]
  },
  {
   "cell_type": "code",
   "execution_count": 26,
   "metadata": {},
   "outputs": [
    {
     "data": {
      "image/png": "[encoded data removed]",
      "text/plain": [
       "<Figure size 800x400 with 1 Axes>"
      ]
     },
     "metadata": {},
     "output_type": "display_data"
    }
   ],
   "source": [
    "\n",
    "import matplotlib.pyplot as plt\n",
    "import matplotlib as mpl\n",
    "import numpy as np\n",
    "from matplotlib import font_manager\n",
    "font_manager.fontManager.addfont('/media/ssd/cdp/LMM-as-a-Judge/lmm_judge_dataset/scripts/times.ttf')\n",
    "plt.rcParams['font.family'] = 'Times New Roman'\n",
    "# Creating the histogram again\n",
    "plt.figure(figsize=(8, 4))\n",
    "colors = [\"#8A2BE2\", '#8ACC97', '#FFA07A','#91BAFF', '#FFDB89']\n",
    "# Plotting histograms\n",
    "plt.hist([human_answer, judge2_answer, judge1_answer, cogVLM_answer, llava_answer], bins=np.arange(1, 5) - 0.5, density=True, color=colors, label=['Human', 'GPT-4V(ision)', 'Gemini-Vision-Pro', 'CogVLM', 'LLaVA'])\n",
    "\n",
    "# Adjusting x-axis labels to \"A Win\", \"B Win\", and \"Tie\"\n",
    "plt.xticks(ticks=[1, 2, 3], labels=['A Win', 'B Win', 'Tie'],fontsize=16)\n",
    "\n",
    "# Adding labels, title, and a large legend\n",
    "# plt.xlabel('Pair Comparison Re', fontsize=16)\n",
    "plt.ylabel('Density', fontsize=16)\n",
    "plt.title('Density of Pair Comparison Result', fontsize=20)\n",
    "plt.legend(prop={'size': 14})\n",
    "\n",
    "# Maintaining the other aspects of the plot\n",
    "plt.grid(axis='y', alpha=0.75)\n",
    "plt.tight_layout()\n",
    "plt.savefig(\"pair_comparison_result.pdf\")\n",
    "# Show the plot with the adjusted x-axis\n",
    "plt.show()"
   ]
  }
 ],
 "metadata": {
  "kernelspec": {
   "display_name": "torch",
   "language": "python",
   "name": "python3"
  },
  "language_info": {
   "codemirror_mode": {
    "name": "ipython",
    "version": 3
   },
   "file_extension": ".py",
   "mimetype": "text/x-python",
   "name": "python",
   "nbconvert_exporter": "python",
   "pygments_lexer": "ipython3",
   "version": "3.9.18"
  }
 },
 "nbformat": 4,
 "nbformat_minor": 2
}
