{
 "cells": [
  {
   "cell_type": "code",
   "execution_count": 3,
   "metadata": {},
   "outputs": [
    {
     "ename": "KeyError",
     "evalue": "'pair_id'",
     "output_type": "error",
     "traceback": [
      "\u001b[0;31m---------------------------------------------------------------------------\u001b[0m",
      "\u001b[0;31mKeyError\u001b[0m                                  Traceback (most recent call last)",
      "Cell \u001b[0;32mIn[3], line 23\u001b[0m\n\u001b[1;32m     20\u001b[0m         json\u001b[38;5;241m.\u001b[39mdump(sorted_data, file, ensure_ascii\u001b[38;5;241m=\u001b[39m\u001b[38;5;28;01mFalse\u001b[39;00m, indent\u001b[38;5;241m=\u001b[39m\u001b[38;5;241m4\u001b[39m)\n\u001b[1;32m     22\u001b[0m \u001b[38;5;66;03m# 用法示例\u001b[39;00m\n\u001b[0;32m---> 23\u001b[0m \u001b[43mmerge_and_sort_jsonl_files\u001b[49m\u001b[43m(\u001b[49m\u001b[38;5;124;43m'\u001b[39;49m\u001b[38;5;124;43m/media/ssd/cdp/MLLM-Judge/Dataset/Benchmark/arxiv_data/score/\u001b[39;49m\u001b[38;5;124;43m'\u001b[39;49m\u001b[43m,\u001b[49m\u001b[43m \u001b[49m\u001b[38;5;124;43m'\u001b[39;49m\u001b[38;5;124;43moutput.json\u001b[39;49m\u001b[38;5;124;43m'\u001b[39;49m\u001b[43m)\u001b[49m\n",
      "Cell \u001b[0;32mIn[3], line 16\u001b[0m, in \u001b[0;36mmerge_and_sort_jsonl_files\u001b[0;34m(directory_path, output_file)\u001b[0m\n\u001b[1;32m     13\u001b[0m                 all_data\u001b[38;5;241m.\u001b[39mappend(json\u001b[38;5;241m.\u001b[39mloads(line))\n\u001b[1;32m     15\u001b[0m \u001b[38;5;66;03m# 根据'pair_id'关键字对所有数据进行排序\u001b[39;00m\n\u001b[0;32m---> 16\u001b[0m sorted_data \u001b[38;5;241m=\u001b[39m \u001b[38;5;28;43msorted\u001b[39;49m\u001b[43m(\u001b[49m\u001b[43mall_data\u001b[49m\u001b[43m,\u001b[49m\u001b[43m \u001b[49m\u001b[43mkey\u001b[49m\u001b[38;5;241;43m=\u001b[39;49m\u001b[38;5;28;43;01mlambda\u001b[39;49;00m\u001b[43m \u001b[49m\u001b[43mx\u001b[49m\u001b[43m:\u001b[49m\u001b[43m \u001b[49m\u001b[43mx\u001b[49m\u001b[43m[\u001b[49m\u001b[38;5;124;43m'\u001b[39;49m\u001b[38;5;124;43mpair_id\u001b[39;49m\u001b[38;5;124;43m'\u001b[39;49m\u001b[43m]\u001b[49m\u001b[43m)\u001b[49m\n\u001b[1;32m     17\u001b[0m \u001b[38;5;28mprint\u001b[39m(\u001b[38;5;28mlen\u001b[39m(all_data))\n\u001b[1;32m     18\u001b[0m \u001b[38;5;66;03m# 将排序后的数据写入新的json文件\u001b[39;00m\n",
      "Cell \u001b[0;32mIn[3], line 16\u001b[0m, in \u001b[0;36mmerge_and_sort_jsonl_files.<locals>.<lambda>\u001b[0;34m(x)\u001b[0m\n\u001b[1;32m     13\u001b[0m                 all_data\u001b[38;5;241m.\u001b[39mappend(json\u001b[38;5;241m.\u001b[39mloads(line))\n\u001b[1;32m     15\u001b[0m \u001b[38;5;66;03m# 根据'pair_id'关键字对所有数据进行排序\u001b[39;00m\n\u001b[0;32m---> 16\u001b[0m sorted_data \u001b[38;5;241m=\u001b[39m \u001b[38;5;28msorted\u001b[39m(all_data, key\u001b[38;5;241m=\u001b[39m\u001b[38;5;28;01mlambda\u001b[39;00m x: \u001b[43mx\u001b[49m\u001b[43m[\u001b[49m\u001b[38;5;124;43m'\u001b[39;49m\u001b[38;5;124;43mpair_id\u001b[39;49m\u001b[38;5;124;43m'\u001b[39;49m\u001b[43m]\u001b[49m)\n\u001b[1;32m     17\u001b[0m \u001b[38;5;28mprint\u001b[39m(\u001b[38;5;28mlen\u001b[39m(all_data))\n\u001b[1;32m     18\u001b[0m \u001b[38;5;66;03m# 将排序后的数据写入新的json文件\u001b[39;00m\n",
      "\u001b[0;31mKeyError\u001b[0m: 'pair_id'"
     ]
    }
   ],
   "source": [
    "import json\n",
    "import os\n",
    "\n",
    "def merge_and_sort_jsonl_files(directory_path, output_file):\n",
    "    all_data = []\n",
    "\n",
    "    # 遍历给定路径下的所有文件\n",
    "    for filename in os.listdir(directory_path):\n",
    "        if filename.endswith('.jsonl'):\n",
    "            # 为每个jsonl文件读取和解析每一行\n",
    "            with open(os.path.join(directory_path, filename), 'r') as file:\n",
    "                for line in file:\n",
    "                    all_data.append(json.loads(line))\n",
    "    \n",
    "    # 根据'pair_id'关键字对所有数据进行排序\n",
    "    sorted_data = sorted(all_data, key=lambda x: x['score_id'])\n",
    "    print(len(all_data))\n",
    "    # 将排序后的数据写入新的json文件\n",
    "    with open(output_file, 'w') as file:\n",
    "        json.dump(sorted_data, file, ensure_ascii=False, indent=4)\n",
    "\n",
    "# 用法示例\n",
    "merge_and_sort_jsonl_files('/media/ssd/cdp/MLLM-Judge/Dataset/Benchmark/arxiv_data/score/', 'output.json')\n"
   ]
  }
 ],
 "metadata": {
  "kernelspec": {
   "display_name": "torch",
   "language": "python",
   "name": "python3"
  },
  "language_info": {
   "codemirror_mode": {
    "name": "ipython",
    "version": 3
   },
   "file_extension": ".py",
   "mimetype": "text/x-python",
   "name": "python",
   "nbconvert_exporter": "python",
   "pygments_lexer": "ipython3",
   "version": "3.9.18"
  }
 },
 "nbformat": 4,
 "nbformat_minor": 2
}
